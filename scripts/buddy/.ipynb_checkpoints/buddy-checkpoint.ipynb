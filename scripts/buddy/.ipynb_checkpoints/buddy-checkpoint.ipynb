{
 "cells": [
  {
   "cell_type": "markdown",
   "metadata": {},
   "source": [
    "# Operating System HW"
   ]
  },
  {
   "cell_type": "markdown",
   "metadata": {},
   "source": [
    "## Simulate a Buddy Allocator"
   ]
  },
  {
   "cell_type": "markdown",
   "metadata": {},
   "source": [
    "### Say the magical word... \"import!\""
   ]
  },
  {
   "cell_type": "code",
   "execution_count": 267,
   "metadata": {},
   "outputs": [],
   "source": [
    "import math\n",
    "import numpy as np"
   ]
  },
  {
   "cell_type": "markdown",
   "metadata": {},
   "source": [
    "### Let's define some functions"
   ]
  },
  {
   "cell_type": "markdown",
   "metadata": {},
   "source": [
    "#### returns the size of free spaces and its offset addresses"
   ]
  },
  {
   "cell_type": "code",
   "execution_count": 272,
   "metadata": {},
   "outputs": [],
   "source": [
    "def free_memory(n, mem):\n",
    "    '''\n",
    "    returns the size of free spaces and its offset addresses\n",
    "    Inputs:\n",
    "        n: integer, represents free memory\n",
    "        mem: int list, memory array\n",
    "    Outputs:\n",
    "        frees: list of size of free spaces\n",
    "        offsets: list of offset adderesses of the free space\n",
    "    '''\n",
    "    free = 0\n",
    "    frees = list()\n",
    "    offsets = [0]\n",
    "\n",
    "    for i, m in enumerate(mem):\n",
    "        if m == n:\n",
    "            free += 1\n",
    "        else:\n",
    "            frees.append(free)\n",
    "            offsets.append(i+1)\n",
    "            free = 0\n",
    "    if m == 0:\n",
    "        frees.append(free)\n",
    "\n",
    "    return frees, offsets\n"
   ]
  },
  {
   "cell_type": "markdown",
   "metadata": {},
   "source": [
    "#### splits memory array"
   ]
  },
  {
   "cell_type": "code",
   "execution_count": 283,
   "metadata": {},
   "outputs": [],
   "source": [
    "def split(divide, mem):\n",
    "    '''\n",
    "    splits memory array\n",
    "    Inputs:\n",
    "        divide: int, size of the chunk we finally want to obtain after splitting. should be n power of 2\n",
    "        mem: int list, memory array\n",
    "    Output:\n",
    "        mem: int list, memory array\n",
    "    '''\n",
    "    frees, offsets = free_memory(0, mem)\n",
    "\n",
    "    while not divide in frees:\n",
    "        frees_sorted = np.sort(frees)\n",
    "        \n",
    "        divide_num = frees_sorted[np.where(frees_sorted > divide)[0]][0] # divide the \"smallest dividable\" chunk\n",
    "        offset = offsets[frees.index(divide_num)]\n",
    "        \n",
    "        mem = np.insert(mem, int(offset+divide_num/2), 2)\n",
    "        \n",
    "        true_offset = offset - np.sum(mem[:offset] == 2) # exclude 2\n",
    "        print(\"(splitting %d/%d)\" % (true_offset, divide_num))\n",
    "        \n",
    "        frees, offsets = free_memory(0, mem)\n",
    "    return mem\n"
   ]
  },
  {
   "cell_type": "markdown",
   "metadata": {},
   "source": [
    "#### print memory array as string"
   ]
  },
  {
   "cell_type": "code",
   "execution_count": 284,
   "metadata": {},
   "outputs": [],
   "source": [
    "def printmem(mem):\n",
    "    '''\n",
    "    print memory array as string\n",
    "\n",
    "    Input:\n",
    "        mem: int list, memory array\n",
    "    '''\n",
    "    mem = np.insert(mem, 0, 2)\n",
    "    mem = np.append(mem, 2)\n",
    "    mem_str = \"\"\n",
    "\n",
    "    for m in mem:\n",
    "        if m == 0:\n",
    "            mem_str += \"-\"\n",
    "        elif m == 1:\n",
    "            mem_str += \"#\"\n",
    "        elif m == 2:\n",
    "            mem_str += \"|\"\n",
    "\n",
    "    print(mem_str)\n"
   ]
  },
  {
   "cell_type": "markdown",
   "metadata": {},
   "source": [
    "#### allocate memory to free space"
   ]
  },
  {
   "cell_type": "code",
   "execution_count": 292,
   "metadata": {},
   "outputs": [],
   "source": [
    "def alloc(n, mem):\n",
    "    '''\n",
    "    allocate n memory space\n",
    "    Inputs:\n",
    "        n: int, size of memory space you want to malloc\n",
    "        mem: int list, memory array\n",
    "    Outputs:\n",
    "        mem: int list, memory array with n addess malloced (represened as 1)\n",
    "    '''\n",
    "    \n",
    "    alloc_len = np.power(2, math.ceil(np.log2(n)))\n",
    "    frees, offsets = free_memory(0, mem)\n",
    "    \n",
    "    if not (alloc_len == frees).any():\n",
    "        mem = split(alloc_len, mem)\n",
    "        frees, offsets = free_memory(0, mem)\n",
    "\n",
    "    ind = offsets[frees.index(alloc_len)]\n",
    "    mem[ind:ind+n] = 1\n",
    "    \n",
    "    printmem(mem)\n",
    "    \n",
    "    return mem"
   ]
  },
  {
   "cell_type": "code",
   "execution_count": 297,
   "metadata": {},
   "outputs": [
    {
     "name": "stdout",
     "output_type": "stream",
     "text": [
      "(splitting 0/64)\n",
      "(splitting 0/32)\n",
      "(splitting 0/16)\n",
      "(splitting 0/8)\n",
      "|####|----|--------|----------------|--------------------------------|\n",
      "|####|----|--------|################|--------------------------------|\n",
      "|####|----|########|################|--------------------------------|\n",
      "(splitting 32/32)\n",
      "|####|----|########|################|###########-----|----------------|\n"
     ]
    }
   ],
   "source": [
    "memory_size = 64\n",
    "memory = np.zeros(memory_size)\n",
    "memory = alloc(4, memory)\n",
    "memory = alloc(16, memory)\n",
    "memory = alloc(8, memory)\n",
    "memory = alloc(11, memory)"
   ]
  },
  {
   "cell_type": "code",
   "execution_count": 293,
   "metadata": {},
   "outputs": [
    {
     "name": "stdout",
     "output_type": "stream",
     "text": [
      "(splitting 0/64)\n",
      "(splitting 0/32)\n",
      "(splitting 0/16)\n",
      "(splitting 0/8)\n",
      "(splitting 32/32)\n"
     ]
    },
    {
     "data": {
      "text/plain": [
       "array([1, 1, 1, 1, 2, 0, 0, 0, 0, 2, 0, 0, 0, 0, 0, 0, 0, 0, 2, 1, 1, 1,\n",
       "       1, 1, 1, 1, 1, 1, 1, 1, 1, 1, 1, 1, 1, 2, 0, 0, 0, 0, 0, 0, 0, 0,\n",
       "       0, 0, 0, 0, 0, 0, 0, 0, 2, 0, 0, 0, 0, 0, 0, 0, 0, 0, 0, 0, 0, 0,\n",
       "       0, 0, 0])"
      ]
     },
     "execution_count": 293,
     "metadata": {},
     "output_type": "execute_result"
    }
   ],
   "source": [
    "test_mem = [0]*64\n",
    "\n",
    "test_mem = split(4, test_mem)\n",
    "\n",
    "test_mem[0:4] = 1\n",
    "\n",
    "test_mem[19:19+16] = 1\n",
    "\n",
    "test_mem = split(16, test_mem)\n",
    "\n",
    "test_mem"
   ]
  }
 ],
 "metadata": {
  "kernelspec": {
   "display_name": "Python 3",
   "language": "python",
   "name": "python3"
  },
  "language_info": {
   "codemirror_mode": {
    "name": "ipython",
    "version": 3
   },
   "file_extension": ".py",
   "mimetype": "text/x-python",
   "name": "python",
   "nbconvert_exporter": "python",
   "pygments_lexer": "ipython3",
   "version": "3.7.2"
  }
 },
 "nbformat": 4,
 "nbformat_minor": 2
}
