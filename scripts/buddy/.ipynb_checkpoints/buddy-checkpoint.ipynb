{
 "cells": [
  {
   "cell_type": "markdown",
   "metadata": {},
   "source": [
    "# Operating System HW"
   ]
  },
  {
   "cell_type": "markdown",
   "metadata": {},
   "source": [
    "## Simulate a Buddy Allocator"
   ]
  },
  {
   "cell_type": "markdown",
   "metadata": {},
   "source": [
    "### Say the magical word... \"import!\""
   ]
  },
  {
   "cell_type": "code",
   "execution_count": 1,
   "metadata": {},
   "outputs": [],
   "source": [
    "import math\n",
    "import numpy as np"
   ]
  },
  {
   "cell_type": "markdown",
   "metadata": {},
   "source": [
    "### Let's define some functions"
   ]
  },
  {
   "cell_type": "markdown",
   "metadata": {},
   "source": [
    "#### returns the size of free spaces and its offset addresses"
   ]
  },
  {
   "cell_type": "code",
   "execution_count": 2,
   "metadata": {},
   "outputs": [],
   "source": [
    "def getFree(n, mem):\n",
    "    '''\n",
    "    returns the size of free spaces and its offset addresses\n",
    "    Inputs:\n",
    "        n: integer, represents free memory\n",
    "        mem: int list, memory array\n",
    "    Outputs:\n",
    "        frees: list of size of free spaces\n",
    "        offsets: list of offset adderesses of the free space\n",
    "    '''\n",
    "    free = 0\n",
    "    frees = list()\n",
    "    offsets = list()\n",
    "    \n",
    "    for i, m in enumerate(mem):\n",
    "        if m == n:\n",
    "            free += 1\n",
    "        elif free != 0:\n",
    "            frees.append(free)\n",
    "            offsets.append(i-free)\n",
    "            free = 0\n",
    "    if m == 0:\n",
    "        frees.append(free)\n",
    "        offsets.append(i+1-free)\n",
    "\n",
    "    return frees, offsets\n"
   ]
  },
  {
   "cell_type": "markdown",
   "metadata": {},
   "source": [
    "#### splits memory array"
   ]
  },
  {
   "cell_type": "code",
   "execution_count": 3,
   "metadata": {},
   "outputs": [],
   "source": [
    "def split(divide, mem):\n",
    "    '''\n",
    "    splits memory array\n",
    "    Inputs:\n",
    "        divide: int, size of the chunk we finally want to obtain after splitting. should be n power of 2\n",
    "        mem: int list, memory array\n",
    "    Output:\n",
    "        mem: int list, memory array\n",
    "    '''\n",
    "    frees, offsets = getFree(0, mem)\n",
    "\n",
    "    while not divide in frees:\n",
    "        frees_sorted = np.sort(frees)\n",
    "        \n",
    "        divide_num = frees_sorted[np.where(frees_sorted > divide)[0]][0] # divide the \"smallest dividable\" chunk\n",
    "        offset = offsets[frees.index(divide_num)]\n",
    "        \n",
    "        mem = np.insert(mem, int(offset+divide_num/2), 2)\n",
    "        \n",
    "        true_offset = offset - np.sum(mem[:offset] == 2) # exclude 2\n",
    "        print(\"(splitting %d/%d)\" % (true_offset, divide_num))\n",
    "        \n",
    "        frees, offsets = getFree(0, mem)\n",
    "    return mem\n"
   ]
  },
  {
   "cell_type": "markdown",
   "metadata": {},
   "source": [
    "#### print memory array as string"
   ]
  },
  {
   "cell_type": "code",
   "execution_count": 4,
   "metadata": {},
   "outputs": [],
   "source": [
    "def printmem(mem):\n",
    "    '''\n",
    "    print memory array as string\n",
    "\n",
    "    Input:\n",
    "        mem: int list, memory array\n",
    "    '''\n",
    "    mem = np.insert(mem, 0, 2)\n",
    "    mem = np.append(mem, 2)\n",
    "    mem_str = \"\"\n",
    "\n",
    "    for m in mem:\n",
    "        if m == 0:\n",
    "            mem_str += \"-\"\n",
    "        elif m == 1:\n",
    "            mem_str += \"#\"\n",
    "        elif m == 2:\n",
    "            mem_str += \"|\"\n",
    "\n",
    "    print(mem_str)\n"
   ]
  },
  {
   "cell_type": "markdown",
   "metadata": {},
   "source": [
    "#### allocate memory to free space"
   ]
  },
  {
   "cell_type": "code",
   "execution_count": 5,
   "metadata": {},
   "outputs": [],
   "source": [
    "def alloc(n, mem):\n",
    "    '''\n",
    "    allocate n memory space\n",
    "    Inputs:\n",
    "        n: int, size of memory space you want to malloc\n",
    "        mem: int list, memory array\n",
    "    Outputs:\n",
    "        mem: int list, memory array with n addess malloced (represened as 1)\n",
    "    '''\n",
    "    \n",
    "    alloc_len = np.power(2, math.ceil(np.log2(n)))\n",
    "    frees, offsets = getFree(0, mem)\n",
    "    \n",
    "    if not (alloc_len == frees).any():\n",
    "        mem = split(alloc_len, mem)\n",
    "        frees, offsets = getFree(0, mem)\n",
    "\n",
    "    ind = offsets[frees.index(alloc_len)]\n",
    "    mem[ind:ind+n] = 1\n",
    "    \n",
    "    true_ind = ind - np.sum(mem[:ind] == 2) # exclude 2\n",
    "    print(\"Blocks %d-%d allocated:\" % (true_ind, true_ind+n-1))\n",
    "    \n",
    "    printmem(mem)\n",
    "    \n",
    "    return mem"
   ]
  },
  {
   "cell_type": "markdown",
   "metadata": {},
   "source": [
    "#### free up and merge memory"
   ]
  },
  {
   "cell_type": "code",
   "execution_count": 10,
   "metadata": {},
   "outputs": [],
   "source": [
    "def free(offset, mem):\n",
    "    '''\n",
    "    frees up memory chunks that starts from offs, merges if necessary\n",
    "    Inputs:getFree\n",
    "        offset: int, offset address of memory chunks to free up\n",
    "        mem: int list, memory array\n",
    "    Output:\n",
    "        mem: int list, memory array\n",
    "    '''\n",
    "\n",
    "    frees, offsets = getFree(0, mem)\n",
    "\n",
    "    # exclude 2, include number of 2's before true_offset\n",
    "    true_offset = offset + \\\n",
    "        np.sum(mem[:offset+np.sum(mem[:offset] == 2)+1] == 2)\n",
    "\n",
    "    for i in range(true_offset, len(mem)):\n",
    "        if mem[i] == 2:\n",
    "            break\n",
    "        else:\n",
    "            mem[i] = 0\n",
    "\n",
    "    print(\"Blocks %d-%d freed:\" % (offset, i - true_offset + offset - 1))\n",
    "\n",
    "    while True:\n",
    "        frees, offsets = getFree(0, mem)\n",
    "        prev_free = 0\n",
    "\n",
    "        for i in range(1, len(frees)):\n",
    "            if frees[i-1] == frees[i] and offsets[i]-offsets[i-1]-frees[i]==1:\n",
    "                mem = np.delete(mem, offsets[i]-1) \n",
    "                true_offset_1 = offsets[i-1] -np.sum(mem[:offsets[i-1]] == 2) \n",
    "                true_offset_2 = offsets[i] -np.sum(mem[:offsets[i]] == 2) - 1 \n",
    "                print(\"(merging %d/%d and %d/%d)\" % (true_offset_1, frees[i-1], true_offset_2, frees[i]))\n",
    "                break\n",
    "            prev_free = free\n",
    "        else:\n",
    "            break\n",
    "            \n",
    "    printmem(mem)\n",
    "\n",
    "    return mem\n"
   ]
  },
  {
   "cell_type": "markdown",
   "metadata": {},
   "source": [
    "### Actual Run!"
   ]
  },
  {
   "cell_type": "code",
   "execution_count": null,
   "metadata": {},
   "outputs": [
    {
     "name": "stdin",
     "output_type": "stream",
     "text": [
      "How many blocks do you wanto allocate/free?:  a 16\n"
     ]
    },
    {
     "name": "stdout",
     "output_type": "stream",
     "text": [
      "(splitting 0/64)\n",
      "(splitting 0/32)\n",
      "Blocks 0-15 allocated:\n",
      "|################|----------------|--------------------------------|\n"
     ]
    },
    {
     "name": "stdin",
     "output_type": "stream",
     "text": [
      "How many blocks do you wanto allocate/free?:  a 16\n"
     ]
    },
    {
     "name": "stdout",
     "output_type": "stream",
     "text": [
      "Blocks 16-31 allocated:\n",
      "|################|################|--------------------------------|\n"
     ]
    },
    {
     "name": "stdin",
     "output_type": "stream",
     "text": [
      "How many blocks do you wanto allocate/free?:  a 16\n"
     ]
    },
    {
     "name": "stdout",
     "output_type": "stream",
     "text": [
      "(splitting 32/32)\n",
      "Blocks 32-47 allocated:\n",
      "|################|################|################|----------------|\n"
     ]
    },
    {
     "name": "stdin",
     "output_type": "stream",
     "text": [
      "How many blocks do you wanto allocate/free?:  a 16\n"
     ]
    },
    {
     "name": "stdout",
     "output_type": "stream",
     "text": [
      "Blocks 48-63 allocated:\n",
      "|################|################|################|################|\n"
     ]
    },
    {
     "name": "stdin",
     "output_type": "stream",
     "text": [
      "How many blocks do you wanto allocate/free?:  f 48\n"
     ]
    },
    {
     "name": "stdout",
     "output_type": "stream",
     "text": [
      "Blocks 48-62 freed:\n",
      "|################|################|################|----------------|\n"
     ]
    },
    {
     "name": "stdin",
     "output_type": "stream",
     "text": [
      "How many blocks do you wanto allocate/free?:  f 32\n"
     ]
    },
    {
     "name": "stderr",
     "output_type": "stream",
     "text": [
      "/mnt/c/Users/shusa/.pyenv/versions/anaconda3-5.3.1/lib/python3.7/site-packages/ipykernel_launcher.py:7: DeprecationWarning: elementwise comparison failed; this will raise an error in the future.\n",
      "  import sys\n"
     ]
    },
    {
     "name": "stdout",
     "output_type": "stream",
     "text": [
      "Blocks 32-47 freed:\n",
      "(merging 32/16 and 49/16)\n",
      "|################|################|--------------------------------|\n"
     ]
    }
   ],
   "source": [
    "memory  = np.zeros(64)\n",
    "while True:\n",
    "    key = input(\"How many blocks do you wanto allocate/free?: \").split()\n",
    "    if key[0] == 'a':\n",
    "        memory = alloc(int(key[1]), memory)\n",
    "    elif key[0] == 'f':\n",
    "        memory == free(int(key[1]), memory)\n",
    "    elif key[0] == 'q':\n",
    "        break"
   ]
  },
  {
   "cell_type": "code",
   "execution_count": 10,
   "metadata": {},
   "outputs": [
    {
     "name": "stdin",
     "output_type": "stream",
     "text": [
      "How many blocks do you wanto allocate/free?:  a 32\n"
     ]
    },
    {
     "name": "stdout",
     "output_type": "stream",
     "text": [
      "(splitting 0/64)\n",
      "Blocks 0-31 allocated:\n",
      "|################################|--------------------------------|\n"
     ]
    },
    {
     "name": "stdin",
     "output_type": "stream",
     "text": [
      "How many blocks do you wanto allocate/free?:  a 16\n"
     ]
    },
    {
     "name": "stdout",
     "output_type": "stream",
     "text": [
      "(splitting 32/32)\n",
      "Blocks 32-47 allocated:\n",
      "|################################|################|----------------|\n"
     ]
    },
    {
     "name": "stdin",
     "output_type": "stream",
     "text": [
      "How many blocks do you wanto allocate/free?:  a 16\n"
     ]
    },
    {
     "name": "stdout",
     "output_type": "stream",
     "text": [
      "Blocks 48-63 allocated:\n",
      "|################################|################|################|\n"
     ]
    },
    {
     "name": "stdin",
     "output_type": "stream",
     "text": [
      "How many blocks do you wanto allocate/free?:  f 0\n"
     ]
    },
    {
     "name": "stdout",
     "output_type": "stream",
     "text": [
      "Blocks 0-31 freed:\n",
      "|--------------------------------|################|################|\n"
     ]
    },
    {
     "name": "stdin",
     "output_type": "stream",
     "text": [
      "How many blocks do you wanto allocate/free?:  f 48\n"
     ]
    },
    {
     "name": "stdout",
     "output_type": "stream",
     "text": [
      "Blocks 48-62 freed:\n",
      "|--------------------------------|################|----------------|\n"
     ]
    },
    {
     "name": "stdin",
     "output_type": "stream",
     "text": [
      "How many blocks do you wanto allocate/free?:  f 32\n"
     ]
    },
    {
     "name": "stderr",
     "output_type": "stream",
     "text": [
      "/mnt/c/Users/shusa/.pyenv/versions/anaconda3-5.3.1/lib/python3.7/site-packages/ipykernel_launcher.py:7: DeprecationWarning: elementwise comparison failed; this will raise an error in the future.\n",
      "  import sys\n"
     ]
    },
    {
     "name": "stdout",
     "output_type": "stream",
     "text": [
      "Blocks 32-47 freed:\n",
      "(merging 33/16 and 49/16)\n",
      "(merging 0/32 and 32/32)\n",
      "|----------------------------------------------------------------|\n"
     ]
    },
    {
     "name": "stdin",
     "output_type": "stream",
     "text": [
      "How many blocks do you wanto allocate/free?:  q\n"
     ]
    }
   ],
   "source": [
    "memory  = np.zeros(64)\n",
    "while True:\n",
    "    key = input(\"How many blocks do you wanto allocate/free?: \").split()\n",
    "    if key[0] == 'a':\n",
    "        memory = alloc(int(key[1]), memory)\n",
    "    elif key[0] == 'f':\n",
    "        memory == free(int(key[1]), memory)\n",
    "    elif key[0] == 'q':\n",
    "        break"
   ]
  },
  {
   "cell_type": "code",
   "execution_count": null,
   "metadata": {},
   "outputs": [],
   "source": []
  }
 ],
 "metadata": {
  "kernelspec": {
   "display_name": "Python 3",
   "language": "python",
   "name": "python3"
  },
  "language_info": {
   "codemirror_mode": {
    "name": "ipython",
    "version": 3
   },
   "file_extension": ".py",
   "mimetype": "text/x-python",
   "name": "python",
   "nbconvert_exporter": "python",
   "pygments_lexer": "ipython3",
   "version": "3.7.2"
  }
 },
 "nbformat": 4,
 "nbformat_minor": 2
}
