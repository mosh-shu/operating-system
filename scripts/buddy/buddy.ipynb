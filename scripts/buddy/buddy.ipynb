{
 "cells": [
  {
   "cell_type": "markdown",
   "metadata": {},
   "source": [
    "# Operating System HW"
   ]
  },
  {
   "cell_type": "markdown",
   "metadata": {},
   "source": [
    "## Simulate a Buddy Allocator"
   ]
  },
  {
   "cell_type": "markdown",
   "metadata": {},
   "source": [
    "### Say the magical word... \"import!\""
   ]
  },
  {
   "cell_type": "code",
   "execution_count": 267,
   "metadata": {},
   "outputs": [],
   "source": [
    "import math\n",
    "import numpy as np"
   ]
  },
  {
   "cell_type": "markdown",
   "metadata": {},
   "source": [
    "### Let's define some functions"
   ]
  },
  {
   "cell_type": "markdown",
   "metadata": {},
   "source": [
    "#### returns the size of free space and its offset address"
   ]
  },
  {
   "cell_type": "code",
   "execution_count": 269,
   "metadata": {},
   "outputs": [],
   "source": [
    "def free_memory(n, mem):\n",
    "    free = 0\n",
    "    frees = list()\n",
    "    offsets = [0]\n",
    "    \n",
    "    for i, m in enumerate(mem):\n",
    "        if m == n:\n",
    "            free += 1\n",
    "        else:\n",
    "            frees.append(free)\n",
    "            offsets.append(i+1)\n",
    "            free = 0\n",
    "    if m == 0:\n",
    "        frees.append(free)\n",
    "        \n",
    "    return  frees, offsets"
   ]
  },
  {
   "cell_type": "code",
   "execution_count": 261,
   "metadata": {},
   "outputs": [],
   "source": [
    "def split(divide, mem):\n",
    "    frees, offsets = free_memory(0, mem)\n",
    "    while not divide in frees:\n",
    "        frees, offsets = free_memory(0, mem)\n",
    "        frees_sorted = np.sort(frees)\n",
    "        divide_num = frees_sorted[np.where(frees_sorted > divide)[0]][0]\n",
    "        offset = offsets[frees.index(divide_num)]\n",
    "        mem = np.insert(mem, int(offset+divide_num/2), 2)\n",
    "        print(\"splitting %d/%d\" % (offset, divide_num))\n",
    "        frees, offsets = free_memory(0, mem)\n",
    "    return mem"
   ]
  },
  {
   "cell_type": "code",
   "execution_count": 262,
   "metadata": {},
   "outputs": [],
   "source": [
    "def printmem(mem):\n",
    "    mem = np.insert(mem, 0, 2)\n",
    "    mem = np.append(mem, 2)\n",
    "    mem_str = \"\"\n",
    "    for m in mem:\n",
    "        if m == 0:\n",
    "            mem_str += \"-\"\n",
    "        elif m == 1:\n",
    "            mem_str += \"#\"\n",
    "        elif m == 2:\n",
    "            mem_str += \"|\"\n",
    "    print(mem_str)"
   ]
  },
  {
   "cell_type": "code",
   "execution_count": 263,
   "metadata": {},
   "outputs": [],
   "source": [
    "def alloc(n, mem, mem_size):\n",
    "    alloc_len = np.power(2, math.ceil(np.log2(n)))\n",
    "    frees = max_space(0, mem)\n",
    "    \n",
    "    if not (alloc_len == frees).any():\n",
    "        mem = split(alloc_len, mem)\n",
    "\n",
    "    frees, offsets = max_space(0, mem)\n",
    "    frees_sorted = np.sort(frees)\n",
    "    ind = offsets[frees.index(alloc_len)]\n",
    "    mem[ind:ind+alloc_len] = 1\n",
    "    \n",
    "    printmem(mem)\n",
    "    \n",
    "    return mem"
   ]
  },
  {
   "cell_type": "code",
   "execution_count": 264,
   "metadata": {},
   "outputs": [
    {
     "name": "stdout",
     "output_type": "stream",
     "text": [
      "splitting 0/64\n",
      "1\n",
      "splitting 0/32\n",
      "2\n",
      "splitting 0/16\n",
      "3\n",
      "splitting 0/8\n",
      "4\n",
      "splitting 36/32\n",
      "25\n"
     ]
    },
    {
     "data": {
      "text/plain": [
       "array([1, 1, 1, 1, 2, 0, 0, 0, 0, 2, 0, 0, 0, 0, 0, 0, 0, 0, 2, 1, 1, 1,\n",
       "       1, 1, 1, 1, 1, 1, 1, 1, 1, 1, 1, 1, 1, 2, 0, 0, 0, 0, 0, 0, 0, 0,\n",
       "       0, 0, 0, 0, 0, 0, 0, 0, 2, 0, 0, 0, 0, 0, 0, 0, 0, 0, 0, 0, 0, 0,\n",
       "       0, 0, 0])"
      ]
     },
     "execution_count": 264,
     "metadata": {},
     "output_type": "execute_result"
    }
   ],
   "source": [
    "test_mem = [0]*64\n",
    "\n",
    "test_mem = split(4, test_mem)\n",
    "\n",
    "test_mem[0:4] = 1\n",
    "\n",
    "test_mem[19:19+16] = 1\n",
    "\n",
    "test_mem = split(16, test_mem)\n",
    "\n",
    "test_mem"
   ]
  },
  {
   "cell_type": "code",
   "execution_count": 265,
   "metadata": {},
   "outputs": [
    {
     "name": "stdout",
     "output_type": "stream",
     "text": [
      "splitting 0/64\n",
      "1\n",
      "splitting 0/32\n",
      "2\n",
      "splitting 0/16\n",
      "3\n",
      "splitting 0/8\n",
      "4\n",
      "|####|----|--------|----------------|--------------------------------|\n",
      "|####|----|--------|################|--------------------------------|\n",
      "|####|----|########|################|--------------------------------|\n",
      "splitting 36/32\n",
      "33\n",
      "splitting 36/16\n",
      "34\n",
      "|####|----|########|################|########|--------|----------------|\n"
     ]
    }
   ],
   "source": [
    "memory_size = 64\n",
    "memory = np.zeros(memory_size)\n",
    "memory = alloc(4, memory, memory_size)\n",
    "memory = alloc(16, memory, memory_size)\n",
    "memory = alloc(8, memory, memory_size)\n",
    "memory = alloc(8, memory, memory_size)"
   ]
  },
  {
   "cell_type": "code",
   "execution_count": 266,
   "metadata": {},
   "outputs": [
    {
     "data": {
      "text/plain": [
       "array([0])"
      ]
     },
     "execution_count": 266,
     "metadata": {},
     "output_type": "execute_result"
    }
   ],
   "source": [
    "np.where(np.array([3,6,2,1]) == 3)[0]"
   ]
  },
  {
   "cell_type": "code",
   "execution_count": null,
   "metadata": {},
   "outputs": [],
   "source": []
  }
 ],
 "metadata": {
  "kernelspec": {
   "display_name": "Python 3",
   "language": "python",
   "name": "python3"
  },
  "language_info": {
   "codemirror_mode": {
    "name": "ipython",
    "version": 3
   },
   "file_extension": ".py",
   "mimetype": "text/x-python",
   "name": "python",
   "nbconvert_exporter": "python",
   "pygments_lexer": "ipython3",
   "version": "3.7.2"
  }
 },
 "nbformat": 4,
 "nbformat_minor": 2
}
